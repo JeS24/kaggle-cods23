{
 "cells": [
  {
   "cell_type": "markdown",
   "metadata": {},
   "source": [
    "## Getting indices and labels for all data (train & test)"
   ]
  },
  {
   "cell_type": "code",
   "execution_count": 1,
   "metadata": {},
   "outputs": [],
   "source": [
    "import pandas as pd, numpy as np, random\n",
    "\n",
    "# Fix random states\n",
    "SEED = 42\n",
    "\n",
    "np.random.seed(SEED)\n",
    "random.seed(SEED)"
   ]
  },
  {
   "cell_type": "code",
   "execution_count": 2,
   "metadata": {},
   "outputs": [
    {
     "data": {
      "text/plain": [
       "(1092, 981)"
      ]
     },
     "execution_count": 2,
     "metadata": {},
     "output_type": "execute_result"
    }
   ],
   "source": [
    "# Dataset\n",
    "from ast import literal_eval\n",
    "\n",
    "pe = pd.read_csv(\"../data/kagdata/pre_embeddings_std_combined.csv\", converters={'pre_embed_vec': literal_eval})\n",
    "pe['pre_embed_vec'] = pe['pre_embed_vec'].apply(lambda x: np.array(x))\n",
    "\n",
    "pre_embeddings = np.vstack(pe['pre_embed_vec'].values)\n",
    "pre_embeddings.shape # NOTE: (1092, 981)"
   ]
  },
  {
   "cell_type": "code",
   "execution_count": 4,
   "metadata": {},
   "outputs": [
    {
     "data": {
      "text/plain": [
       "array([[410,  31],\n",
       "       [759,  31],\n",
       "       [478,  31],\n",
       "       ...,\n",
       "       [957, 877],\n",
       "       [804, 604],\n",
       "       [845,  49]])"
      ]
     },
     "execution_count": 4,
     "metadata": {},
     "output_type": "execute_result"
    }
   ],
   "source": [
    "# Generate edge set & labels (y)\n",
    "data = pd.read_csv(\"../data/kagdata/combined.csv\")\n",
    "train_edges = data[['pre requisite', 'concept']]\n",
    "y = pd.read_csv(\"../data/kagdata/train.csv\")['label'].values\n",
    "\n",
    "# Using pe['title'] as node index and comparing with train_edges to generate edge_indices\n",
    "edge_indices = np.c_[train_edges['pre requisite'].apply(lambda x: pe[pe['title'] == x].index[0]).values, train_edges['concept'].apply(lambda x: pe[pe['title'] == x].index[0]).values]\n",
    "edge_indices"
   ]
  },
  {
   "cell_type": "code",
   "execution_count": 5,
   "metadata": {},
   "outputs": [
    {
     "data": {
      "text/plain": [
       "(3411, 2)"
      ]
     },
     "execution_count": 5,
     "metadata": {},
     "output_type": "execute_result"
    }
   ],
   "source": [
    "edge_indices.shape"
   ]
  },
  {
   "cell_type": "code",
   "execution_count": 6,
   "metadata": {},
   "outputs": [
    {
     "data": {
      "text/plain": [
       "(True, (3411, 2), (3411, 2))"
      ]
     },
     "execution_count": 6,
     "metadata": {},
     "output_type": "execute_result"
    }
   ],
   "source": [
    "# Checking if edge_indices are correct - only shapes\n",
    "recons_train_edges = np.array([[pe[\"title\"][i], pe[\"title\"][j]] for i, j in edge_indices])\n",
    "np.all(train_edges == recons_train_edges), train_edges.shape, recons_train_edges.shape"
   ]
  },
  {
   "cell_type": "code",
   "execution_count": 7,
   "metadata": {},
   "outputs": [
    {
     "data": {
      "text/plain": [
       "(3411,)"
      ]
     },
     "execution_count": 7,
     "metadata": {},
     "output_type": "execute_result"
    }
   ],
   "source": [
    "y = np.concatenate([y, np.zeros(614)])\n",
    "y.shape"
   ]
  },
  {
   "cell_type": "code",
   "execution_count": 8,
   "metadata": {},
   "outputs": [
    {
     "data": {
      "text/plain": [
       "array([[410.,  31.,   1.],\n",
       "       [759.,  31.,   1.],\n",
       "       [478.,  31.,   1.],\n",
       "       ...,\n",
       "       [957., 877.,   0.],\n",
       "       [804., 604.,   0.],\n",
       "       [845.,  49.,   0.]])"
      ]
     },
     "execution_count": 8,
     "metadata": {},
     "output_type": "execute_result"
    }
   ],
   "source": [
    "# Generate [edge_indices, y]\n",
    "labels = np.c_[edge_indices, y]\n",
    "labels"
   ]
  },
  {
   "cell_type": "code",
   "execution_count": 10,
   "metadata": {},
   "outputs": [
    {
     "data": {
      "text/plain": [
       "(3411, 3)"
      ]
     },
     "execution_count": 10,
     "metadata": {},
     "output_type": "execute_result"
    }
   ],
   "source": [
    "labels.shape"
   ]
  },
  {
   "cell_type": "code",
   "execution_count": 9,
   "metadata": {},
   "outputs": [
    {
     "data": {
      "text/plain": [
       "1113"
      ]
     },
     "execution_count": 9,
     "metadata": {},
     "output_type": "execute_result"
    }
   ],
   "source": [
    "np.count_nonzero(labels[:, 2]) # NOTE: 1113 Positive labels & 2797 - 1113 = 1684 Negative labels <--- Training set"
   ]
  },
  {
   "cell_type": "code",
   "execution_count": 53,
   "metadata": {},
   "outputs": [],
   "source": [
    "# Save to disk\n",
    "# np.save(\"../data/kagdata/edge_indices_labels_combined.npy\", labels) # NOTE: Careful about overwriting"
   ]
  },
  {
   "cell_type": "code",
   "execution_count": null,
   "metadata": {},
   "outputs": [],
   "source": []
  }
 ],
 "metadata": {
  "kernelspec": {
   "display_name": "reqv",
   "language": "python",
   "name": "python3"
  },
  "language_info": {
   "codemirror_mode": {
    "name": "ipython",
    "version": 3
   },
   "file_extension": ".py",
   "mimetype": "text/x-python",
   "name": "python",
   "nbconvert_exporter": "python",
   "pygments_lexer": "ipython3",
   "version": "3.11.6"
  },
  "orig_nbformat": 4
 },
 "nbformat": 4,
 "nbformat_minor": 2
}
