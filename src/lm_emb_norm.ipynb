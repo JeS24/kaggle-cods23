{
 "cells": [
  {
   "cell_type": "markdown",
   "metadata": {},
   "source": [
    "### Normalizing the LM embeddings"
   ]
  },
  {
   "cell_type": "code",
   "execution_count": null,
   "metadata": {},
   "outputs": [],
   "source": [
    "from ast import literal_eval\n",
    "import numpy as np, pandas as pd\n",
    "from sklearn.preprocessing import StandardScaler, MinMaxScaler\n",
    "\n",
    "ROOT = \"../data/kagdata/\""
   ]
  },
  {
   "cell_type": "code",
   "execution_count": null,
   "metadata": {},
   "outputs": [],
   "source": [
    "pe = pd.read_csv(ROOT + \"emb_std_combined.csv\", converters={'pre_embed_vec': literal_eval, 'doc_emb_unproc': literal_eval, 'doc_emb': literal_eval})\n",
    "pe"
   ]
  },
  {
   "cell_type": "code",
   "execution_count": null,
   "metadata": {},
   "outputs": [],
   "source": [
    "scaler_emb = StandardScaler()\n",
    "scaler_unproc = StandardScaler()\n",
    "\n",
    "# pe['pre_embed_vec'] = pe['pre_embed_vec'].apply(lambda x: np.array(x))\n",
    "pe['doc_emb'] = pe['doc_emb'].apply(lambda x: np.array(x))\n",
    "pe['doc_emb_unproc'] = pe['doc_emb_unproc'].apply(lambda x: np.array(x))"
   ]
  },
  {
   "cell_type": "code",
   "execution_count": null,
   "metadata": {},
   "outputs": [],
   "source": [
    "# Run scaler on each row in pe['pre_embed_vec']\n",
    "pe['doc_emb'] = pe['doc_emb'].apply(lambda x: scaler_emb.fit_transform(np.array(x).reshape(-1, 1)))\n",
    "# Convert back to list\n",
    "pe['doc_emb'] = pe['doc_emb'].apply(lambda x: x.reshape(-1).tolist())\n",
    "\n",
    "# Run scaler on each row in pe['pre_embed_vec']\n",
    "pe['doc_emb_unproc'] = pe['doc_emb_unproc'].apply(lambda x: scaler_unproc.fit_transform(np.array(x).reshape(-1, 1)))\n",
    "# Convert back to list\n",
    "pe['doc_emb_unproc'] = pe['doc_emb_unproc'].apply(lambda x: x.reshape(-1).tolist())"
   ]
  },
  {
   "cell_type": "code",
   "execution_count": null,
   "metadata": {},
   "outputs": [],
   "source": [
    "pe"
   ]
  },
  {
   "cell_type": "code",
   "execution_count": null,
   "metadata": {},
   "outputs": [],
   "source": [
    "# Saving to disk\n",
    "# pe.to_csv(ROOT + \"emb_stdnormed_combined.csv\", index=False) # NOTE: Careful about overwriting"
   ]
  },
  {
   "cell_type": "code",
   "execution_count": null,
   "metadata": {},
   "outputs": [],
   "source": []
  }
 ],
 "metadata": {
  "language_info": {
   "name": "python"
  }
 },
 "nbformat": 4,
 "nbformat_minor": 2
}
