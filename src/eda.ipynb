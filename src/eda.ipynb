{
 "cells": [
  {
   "cell_type": "markdown",
   "metadata": {},
   "source": [
    "## Exploratory Data Analysis (EDA)"
   ]
  },
  {
   "cell_type": "code",
   "execution_count": 1,
   "metadata": {},
   "outputs": [],
   "source": [
    "import numpy as np, pandas as pd\n",
    "\n",
    "ROOT = \"../data/kagdata/\""
   ]
  },
  {
   "cell_type": "code",
   "execution_count": 2,
   "metadata": {},
   "outputs": [],
   "source": [
    "train_data = pd.read_csv(ROOT + \"train.csv\")\n",
    "# train_data # NOTE: 316 similarity features + 665 BOWs (that can be vector-summed - like we are doing now)"
   ]
  },
  {
   "cell_type": "code",
   "execution_count": 3,
   "metadata": {},
   "outputs": [
    {
     "data": {
      "text/html": [
       "<div>\n",
       "<style scoped>\n",
       "    .dataframe tbody tr th:only-of-type {\n",
       "        vertical-align: middle;\n",
       "    }\n",
       "\n",
       "    .dataframe tbody tr th {\n",
       "        vertical-align: top;\n",
       "    }\n",
       "\n",
       "    .dataframe thead th {\n",
       "        text-align: right;\n",
       "    }\n",
       "</style>\n",
       "<table border=\"1\" class=\"dataframe\">\n",
       "  <thead>\n",
       "    <tr style=\"text-align: right;\">\n",
       "      <th></th>\n",
       "      <th>video name</th>\n",
       "      <th>transcript</th>\n",
       "      <th>extracted</th>\n",
       "    </tr>\n",
       "  </thead>\n",
       "  <tbody>\n",
       "    <tr>\n",
       "      <th>0</th>\n",
       "      <td>Collection and Presentation of Data - II</td>\n",
       "      <td>we already know that data can be presented us...</td>\n",
       "      <td>['upper class interval', 'upper class limit', ...</td>\n",
       "    </tr>\n",
       "    <tr>\n",
       "      <th>1</th>\n",
       "      <td>Frequency Polygon</td>\n",
       "      <td>there is the same ar picture is for ar thousa...</td>\n",
       "      <td>['frequency polygon ar frequency polygon', 'co...</td>\n",
       "    </tr>\n",
       "    <tr>\n",
       "      <th>2</th>\n",
       "      <td>Mean</td>\n",
       "      <td>mean in our day to day life we talk about ave...</td>\n",
       "      <td>['basket ball players', 'average', 'central va...</td>\n",
       "    </tr>\n",
       "    <tr>\n",
       "      <th>3</th>\n",
       "      <td>Angle Sum Property</td>\n",
       "      <td>angle sum property done by an looking confuse...</td>\n",
       "      <td>['triangle angle', 'testa line tan', 'good tan...</td>\n",
       "    </tr>\n",
       "    <tr>\n",
       "      <th>4</th>\n",
       "      <td>Inequality Property of Triangle</td>\n",
       "      <td>the sum of the lengths of any two sides of tr...</td>\n",
       "      <td>['lengths equal', 'third side', 'lengths']</td>\n",
       "    </tr>\n",
       "    <tr>\n",
       "      <th>...</th>\n",
       "      <td>...</td>\n",
       "      <td>...</td>\n",
       "      <td>...</td>\n",
       "    </tr>\n",
       "    <tr>\n",
       "      <th>1087</th>\n",
       "      <td>Heart external features</td>\n",
       "      <td>whenever we put our hands on the left side of...</td>\n",
       "      <td>['movement membrane', 'cardiac muscles', 'vent...</td>\n",
       "    </tr>\n",
       "    <tr>\n",
       "      <th>1088</th>\n",
       "      <td>Comparison of Rational Numbers</td>\n",
       "      <td>altitudes of two man tons relative to sea lev...</td>\n",
       "      <td>['negative rational number', 'greater rational...</td>\n",
       "    </tr>\n",
       "    <tr>\n",
       "      <th>1089</th>\n",
       "      <td>Non - Contact Forces</td>\n",
       "      <td>forces that act between two bodies even when ...</td>\n",
       "      <td>['magnetic force', 'contact', 'force', 'ar']</td>\n",
       "    </tr>\n",
       "    <tr>\n",
       "      <th>1090</th>\n",
       "      <td>Compound microscope</td>\n",
       "      <td>compound microscope ar microscope is an instr...</td>\n",
       "      <td>['objective lenses condenser', 'objective lens...</td>\n",
       "    </tr>\n",
       "    <tr>\n",
       "      <th>1091</th>\n",
       "      <td>Locomotion in Fish</td>\n",
       "      <td>although life and water puts many severe cons...</td>\n",
       "      <td>['similar body shape', 'body', 'tail part', 'm...</td>\n",
       "    </tr>\n",
       "  </tbody>\n",
       "</table>\n",
       "<p>1092 rows × 3 columns</p>\n",
       "</div>"
      ],
      "text/plain": [
       "                                    video name  \\\n",
       "0     Collection and Presentation of Data - II   \n",
       "1                            Frequency Polygon   \n",
       "2                                         Mean   \n",
       "3                           Angle Sum Property   \n",
       "4              Inequality Property of Triangle   \n",
       "...                                        ...   \n",
       "1087                   Heart external features   \n",
       "1088            Comparison of Rational Numbers   \n",
       "1089                      Non - Contact Forces   \n",
       "1090                       Compound microscope   \n",
       "1091                        Locomotion in Fish   \n",
       "\n",
       "                                             transcript  \\\n",
       "0      we already know that data can be presented us...   \n",
       "1      there is the same ar picture is for ar thousa...   \n",
       "2      mean in our day to day life we talk about ave...   \n",
       "3      angle sum property done by an looking confuse...   \n",
       "4      the sum of the lengths of any two sides of tr...   \n",
       "...                                                 ...   \n",
       "1087   whenever we put our hands on the left side of...   \n",
       "1088   altitudes of two man tons relative to sea lev...   \n",
       "1089   forces that act between two bodies even when ...   \n",
       "1090   compound microscope ar microscope is an instr...   \n",
       "1091   although life and water puts many severe cons...   \n",
       "\n",
       "                                              extracted  \n",
       "0     ['upper class interval', 'upper class limit', ...  \n",
       "1     ['frequency polygon ar frequency polygon', 'co...  \n",
       "2     ['basket ball players', 'average', 'central va...  \n",
       "3     ['triangle angle', 'testa line tan', 'good tan...  \n",
       "4            ['lengths equal', 'third side', 'lengths']  \n",
       "...                                                 ...  \n",
       "1087  ['movement membrane', 'cardiac muscles', 'vent...  \n",
       "1088  ['negative rational number', 'greater rational...  \n",
       "1089       ['magnetic force', 'contact', 'force', 'ar']  \n",
       "1090  ['objective lenses condenser', 'objective lens...  \n",
       "1091  ['similar body shape', 'body', 'tail part', 'm...  \n",
       "\n",
       "[1092 rows x 3 columns]"
      ]
     },
     "execution_count": 3,
     "metadata": {},
     "output_type": "execute_result"
    }
   ],
   "source": [
    "meta = pd.read_csv(ROOT + \"metadata.csv\")\n",
    "meta"
   ]
  },
  {
   "cell_type": "markdown",
   "metadata": {},
   "source": [
    "## Checks"
   ]
  },
  {
   "cell_type": "code",
   "execution_count": 4,
   "metadata": {},
   "outputs": [
    {
     "name": "stdout",
     "output_type": "stream",
     "text": [
      "(2797,) (2797,)\n",
      "(614,) (614,)\n"
     ]
    }
   ],
   "source": [
    "# Verify metadata - NOTE: is fine. All videos accounted for.\n",
    "test_data = pd.read_csv(ROOT + \"test.csv\")\n",
    "\n",
    "cons, pr = train_data[['concept', 'pre requisite']].values.T\n",
    "print(cons.shape, pr.shape)\n",
    "\n",
    "tcons, tpr = test_data[['concept', 'pre requisite']].values.T\n",
    "print(tcons.shape, tpr.shape)\n",
    "\n",
    "for i in np.concatenate([cons, pr]):\n",
    "    if i not in meta['video name'].values:\n",
    "        print(i)\n",
    "\n",
    "for i in np.concatenate([tcons, tpr]):\n",
    "    if i not in meta['video name'].values:\n",
    "        print(i)"
   ]
  },
  {
   "cell_type": "code",
   "execution_count": 5,
   "metadata": {},
   "outputs": [
    {
     "data": {
      "text/html": [
       "<div>\n",
       "<style scoped>\n",
       "    .dataframe tbody tr th:only-of-type {\n",
       "        vertical-align: middle;\n",
       "    }\n",
       "\n",
       "    .dataframe tbody tr th {\n",
       "        vertical-align: top;\n",
       "    }\n",
       "\n",
       "    .dataframe thead th {\n",
       "        text-align: right;\n",
       "    }\n",
       "</style>\n",
       "<table border=\"1\" class=\"dataframe\">\n",
       "  <thead>\n",
       "    <tr style=\"text-align: right;\">\n",
       "      <th></th>\n",
       "      <th>video name</th>\n",
       "      <th>transcript</th>\n",
       "    </tr>\n",
       "  </thead>\n",
       "  <tbody>\n",
       "    <tr>\n",
       "      <th>0</th>\n",
       "      <td>Collection and Presentation of Data - II</td>\n",
       "      <td>we already know that data can be presented us...</td>\n",
       "    </tr>\n",
       "    <tr>\n",
       "      <th>1</th>\n",
       "      <td>Frequency Polygon</td>\n",
       "      <td>there is the same ar picture is for ar thousa...</td>\n",
       "    </tr>\n",
       "    <tr>\n",
       "      <th>2</th>\n",
       "      <td>Mean</td>\n",
       "      <td>mean in our day to day life we talk about ave...</td>\n",
       "    </tr>\n",
       "    <tr>\n",
       "      <th>3</th>\n",
       "      <td>Angle Sum Property</td>\n",
       "      <td>angle sum property done by an looking confuse...</td>\n",
       "    </tr>\n",
       "    <tr>\n",
       "      <th>4</th>\n",
       "      <td>Inequality Property of Triangle</td>\n",
       "      <td>the sum of the lengths of any two sides of tr...</td>\n",
       "    </tr>\n",
       "    <tr>\n",
       "      <th>...</th>\n",
       "      <td>...</td>\n",
       "      <td>...</td>\n",
       "    </tr>\n",
       "    <tr>\n",
       "      <th>1087</th>\n",
       "      <td>Heart external features</td>\n",
       "      <td>whenever we put our hands on the left side of...</td>\n",
       "    </tr>\n",
       "    <tr>\n",
       "      <th>1088</th>\n",
       "      <td>Comparison of Rational Numbers</td>\n",
       "      <td>altitudes of two man tons relative to sea lev...</td>\n",
       "    </tr>\n",
       "    <tr>\n",
       "      <th>1089</th>\n",
       "      <td>Non - Contact Forces</td>\n",
       "      <td>forces that act between two bodies even when ...</td>\n",
       "    </tr>\n",
       "    <tr>\n",
       "      <th>1090</th>\n",
       "      <td>Compound microscope</td>\n",
       "      <td>compound microscope ar microscope is an instr...</td>\n",
       "    </tr>\n",
       "    <tr>\n",
       "      <th>1091</th>\n",
       "      <td>Locomotion in Fish</td>\n",
       "      <td>although life and water puts many severe cons...</td>\n",
       "    </tr>\n",
       "  </tbody>\n",
       "</table>\n",
       "<p>1092 rows × 2 columns</p>\n",
       "</div>"
      ],
      "text/plain": [
       "                                    video name  \\\n",
       "0     Collection and Presentation of Data - II   \n",
       "1                            Frequency Polygon   \n",
       "2                                         Mean   \n",
       "3                           Angle Sum Property   \n",
       "4              Inequality Property of Triangle   \n",
       "...                                        ...   \n",
       "1087                   Heart external features   \n",
       "1088            Comparison of Rational Numbers   \n",
       "1089                      Non - Contact Forces   \n",
       "1090                       Compound microscope   \n",
       "1091                        Locomotion in Fish   \n",
       "\n",
       "                                             transcript  \n",
       "0      we already know that data can be presented us...  \n",
       "1      there is the same ar picture is for ar thousa...  \n",
       "2      mean in our day to day life we talk about ave...  \n",
       "3      angle sum property done by an looking confuse...  \n",
       "4      the sum of the lengths of any two sides of tr...  \n",
       "...                                                 ...  \n",
       "1087   whenever we put our hands on the left side of...  \n",
       "1088   altitudes of two man tons relative to sea lev...  \n",
       "1089   forces that act between two bodies even when ...  \n",
       "1090   compound microscope ar microscope is an instr...  \n",
       "1091   although life and water puts many severe cons...  \n",
       "\n",
       "[1092 rows x 2 columns]"
      ]
     },
     "execution_count": 5,
     "metadata": {},
     "output_type": "execute_result"
    }
   ],
   "source": [
    "meta[['video name', 'transcript']]"
   ]
  },
  {
   "cell_type": "code",
   "execution_count": 88,
   "metadata": {},
   "outputs": [
    {
     "name": "stdout",
     "output_type": "stream",
     "text": [
      "['first law'] \t\t kepler's first law\n"
     ]
    },
    {
     "data": {
      "text/plain": [
       "array([5, 5, 5, 5, 5, 5, 5, 5, 5, 5, 4, 4, 4, 4, 4, 4, 4, 4, 4, 4, 4, 4,\n",
       "       4, 4, 3, 3, 3, 3, 3, 2, 2, 2, 2, 2, 2, 2, 2, 1, 0, 0])"
      ]
     },
     "execution_count": 88,
     "metadata": {},
     "output_type": "execute_result"
    }
   ],
   "source": [
    "# NOTE: Max length of transcript -  50 - seems like a hyperparam they chose. Min can be as low as 1 (one occurence - `kepler's first law`) | (2 have 0, but erroneous)\n",
    "from ast import literal_eval\n",
    "\n",
    "translens = []\n",
    "for i in meta['extracted']:\n",
    "    lst = literal_eval(i)\n",
    "    translens.append(len(lst))\n",
    "\n",
    "    if len(lst) == 1:\n",
    "        print(lst, \"\\t\\t\", meta[meta['extracted'] == i]['video name'].values[0])\n",
    "\n",
    "np.array(sorted(translens, reverse=True))[-40:]"
   ]
  },
  {
   "cell_type": "code",
   "execution_count": 59,
   "metadata": {},
   "outputs": [
    {
     "data": {
      "text/html": [
       "<div>\n",
       "<style scoped>\n",
       "    .dataframe tbody tr th:only-of-type {\n",
       "        vertical-align: middle;\n",
       "    }\n",
       "\n",
       "    .dataframe tbody tr th {\n",
       "        vertical-align: top;\n",
       "    }\n",
       "\n",
       "    .dataframe thead th {\n",
       "        text-align: right;\n",
       "    }\n",
       "</style>\n",
       "<table border=\"1\" class=\"dataframe\">\n",
       "  <thead>\n",
       "    <tr style=\"text-align: right;\">\n",
       "      <th></th>\n",
       "      <th>video name</th>\n",
       "      <th>transcript</th>\n",
       "      <th>extracted</th>\n",
       "    </tr>\n",
       "  </thead>\n",
       "  <tbody>\n",
       "    <tr>\n",
       "      <th>942</th>\n",
       "      <td>3D circulatory system</td>\n",
       "      <td>in an</td>\n",
       "      <td>[]</td>\n",
       "    </tr>\n",
       "    <tr>\n",
       "      <th>1064</th>\n",
       "      <td>Introduction to Human Musculo - Skeletal System</td>\n",
       "      <td></td>\n",
       "      <td>[]</td>\n",
       "    </tr>\n",
       "  </tbody>\n",
       "</table>\n",
       "</div>"
      ],
      "text/plain": [
       "                                           video name transcript extracted\n",
       "942                             3D circulatory system      in an        []\n",
       "1064  Introduction to Human Musculo - Skeletal System                   []"
      ]
     },
     "execution_count": 59,
     "metadata": {},
     "output_type": "execute_result"
    }
   ],
   "source": [
    "# CONCERN: For these 2 videos, there is no usable transcript or extracted keyphrases:\n",
    "    # - 3D circulatory system\n",
    "    # - Introduction to Human Musculo - Skeletal System\n",
    "meta[meta['extracted'] == '[]']"
   ]
  },
  {
   "cell_type": "code",
   "execution_count": 1,
   "metadata": {},
   "outputs": [],
   "source": [
    "# # NOTE: `prominent nucleus ribosomes mitocontria endoplasmic reticulum` max length (61) keyphrase extracted by them.\n",
    "# maxstrs = []\n",
    "# for i in meta['extracted']:\n",
    "#     lst = np.array(literal_eval(i))\n",
    "\n",
    "#     # Get string with max length from lst\n",
    "#     if len(lst):\n",
    "#         maxstr = max(lst, key=len)\n",
    "#         maxstrs.append(maxstr)\n",
    "\n",
    "# sorted(maxstrs, key=len, reverse=True)"
   ]
  },
  {
   "cell_type": "code",
   "execution_count": null,
   "metadata": {},
   "outputs": [],
   "source": []
  }
 ],
 "metadata": {
  "kernelspec": {
   "display_name": "reqv",
   "language": "python",
   "name": "python3"
  },
  "language_info": {
   "codemirror_mode": {
    "name": "ipython",
    "version": 3
   },
   "file_extension": ".py",
   "mimetype": "text/x-python",
   "name": "python",
   "nbconvert_exporter": "python",
   "pygments_lexer": "ipython3",
   "version": "3.11.5"
  }
 },
 "nbformat": 4,
 "nbformat_minor": 2
}
